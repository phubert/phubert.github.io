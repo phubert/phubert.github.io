{
 "cells": [
  {
   "cell_type": "markdown",
   "metadata": {},
   "source": [
    "# Atelier d'introduction à Python\n",
    "\n",
    "***ElleCode - 14 novembre 2019***\n",
    "\n",
    "Cette feuille est une introduction à la programmation Python. Elle contient des exercices à essayer vous-même et des exemples de code à tester et à expérimenter."
   ]
  },
  {
   "cell_type": "markdown",
   "metadata": {},
   "source": [
    "## Boucles `for` et `range`"
   ]
  },
  {
   "cell_type": "markdown",
   "metadata": {},
   "source": [
    "Prédisez la sortie de chacun des deux blocs suivants :\n",
    "```python\n",
    "somme = 0\n",
    "for i in range(10): \n",
    "    somme = i + somme\n",
    "    print(somme)\n",
    "```\n",
    "et\n",
    "```python\n",
    "somme = 0\n",
    "for i in range(10):\n",
    "    somme = i + somme\n",
    "print(somme)\n",
    "```\n",
    "\n",
    "Vérifiez vos réponses en évaluant ces entrées dans Python."
   ]
  },
  {
   "cell_type": "code",
   "execution_count": null,
   "metadata": {},
   "outputs": [],
   "source": [
    "# Copier/coller le code ici pour le tester."
   ]
  },
  {
   "cell_type": "markdown",
   "metadata": {},
   "source": [
    "À l'aide d'une boucle écrivez un programme qui à partir d'une liste de lettres (par exemple ['a', 'b', 'c', 'd']) écrit le mot formé de ces lettres (ici abcd). "
   ]
  },
  {
   "cell_type": "code",
   "execution_count": null,
   "metadata": {},
   "outputs": [],
   "source": [
    "# Écrivez votre réponse ici. "
   ]
  },
  {
   "cell_type": "markdown",
   "metadata": {},
   "source": [
    "## Conditions : `if`, `else`, `and`, `or` et les comparateurs"
   ]
  },
  {
   "cell_type": "markdown",
   "metadata": {},
   "source": [
    "Obeservez ces deux conditionnelles et essayez de comprendre quelle est la différence. \n",
    "\n",
    "```python\n",
    "a = 500\n",
    "b = 33\n",
    "c = 200\n",
    "if a > b and c > a:\n",
    "    print(\"Réponse A\")\n",
    "else:\n",
    "    print(\"Réponse B\")\n",
    "```\n",
    "et\n",
    "```python\n",
    "a = 500\n",
    "b = 33\n",
    "c = 200\n",
    "if a > b or c > a:\n",
    "    print(\"Réponse A\")\n",
    "else:\n",
    "    print(\"Réponse B\")\n",
    "```\n",
    "\n",
    "Vérifiez vos réponses en évaluant ces entrées en python. "
   ]
  },
  {
   "cell_type": "code",
   "execution_count": null,
   "metadata": {},
   "outputs": [],
   "source": [
    "# Copier/coller le code ici pour le tester."
   ]
  },
  {
   "cell_type": "markdown",
   "metadata": {},
   "source": [
    "Écrivez un programme compare deux nombres et affiche le plus petit des deux. "
   ]
  },
  {
   "cell_type": "code",
   "execution_count": null,
   "metadata": {},
   "outputs": [],
   "source": [
    "# Écrivez votre réponse ici. "
   ]
  },
  {
   "cell_type": "markdown",
   "metadata": {},
   "source": [
    "## Listes, ensembles et dictionnaires"
   ]
  },
  {
   "cell_type": "markdown",
   "metadata": {},
   "source": [
    "Il existe plusieurs structures de données similaires en python. On en donne ici trois : les listes, les ensembles et les dictionnaires. <br>\n",
    "Les **listes** sont les suites ordonnées d'objets. On peut accéder à chaque objet de la liste par sa position dans la liste (attention en programmation les indices commencent à 0). <br>\n",
    "Pour plus d'informations sur les listes ou d'autres structures de données python : https://www.w3schools.com/python/python_lists.asp"
   ]
  },
  {
   "cell_type": "code",
   "execution_count": 19,
   "metadata": {},
   "outputs": [
    {
     "name": "stdout",
     "output_type": "stream",
     "text": [
      "[3, 1, 2, 2]\n",
      "['rouge', 'bleu', 'vert']\n",
      "bleu\n"
     ]
    }
   ],
   "source": [
    "L = [3,1,2,2]\n",
    "couleurs = ['rouge','bleu','vert']\n",
    "print(L)\n",
    "print(couleurs)\n",
    "print(couleurs[1])"
   ]
  },
  {
   "cell_type": "markdown",
   "metadata": {},
   "source": [
    "Les **ensembles** sont des paquet d'objets pour lesquels l'ordre n'a pas d'importance mais qui ne peuvent se répéter deux fois. Comme il n'y a pas d'ordre, on ne peut pas accéder aux objets par leurs positions mais il est possible d'itérer sur les éléments d'une liste"
   ]
  },
  {
   "cell_type": "code",
   "execution_count": 20,
   "metadata": {
    "scrolled": true
   },
   "outputs": [
    {
     "name": "stdout",
     "output_type": "stream",
     "text": [
      "{1, 2, 3}\n"
     ]
    }
   ],
   "source": [
    "E = {3,1,2,2}\n",
    "print(E)"
   ]
  },
  {
   "cell_type": "code",
   "execution_count": 21,
   "metadata": {
    "scrolled": true
   },
   "outputs": [
    {
     "name": "stdout",
     "output_type": "stream",
     "text": [
      "1\n",
      "2\n",
      "3\n"
     ]
    }
   ],
   "source": [
    "for e in E:\n",
    "    print(e)"
   ]
  },
  {
   "cell_type": "markdown",
   "metadata": {},
   "source": [
    "Les **dictionnaires** sont une structure un peu plus avancée. En fait, on peut les voir comme des listes mais les objets au lieu d'être repérés dans un indicee (une position dans la liste), sont repérés par une étiquette qui peut être n'importe quel objet python (un entier, une chaîne de caractères, une liste, etc). <br>\n",
    "Voici un bon tutoriel sur les dictionnaires et les fonctions utiles associées : https://realpython.com/python-dicts/"
   ]
  },
  {
   "cell_type": "code",
   "execution_count": 29,
   "metadata": {},
   "outputs": [
    {
     "name": "stdout",
     "output_type": "stream",
     "text": [
      "{'rouge': ['tomate', 'fraise'], 'jaune': ['citron', 'banane'], 'vert': ['haricots', 'brocoli']}\n",
      "['tomate', 'fraise']\n"
     ]
    }
   ],
   "source": [
    "fruits_legumes = {'rouge':['tomate','fraise'], 'jaune':['citron', 'banane'], 'vert':['haricots', 'brocoli']}\n",
    "print(fruits_legumes)\n",
    "print(fruits_legumes['rouge'])"
   ]
  },
  {
   "cell_type": "code",
   "execution_count": 30,
   "metadata": {},
   "outputs": [
    {
     "name": "stdout",
     "output_type": "stream",
     "text": [
      "John\n"
     ]
    }
   ],
   "source": [
    "D = {'prénom':'John', 'nom':'Doe', 'année de naissance':1985}\n",
    "print(D['prénom'])"
   ]
  },
  {
   "cell_type": "markdown",
   "metadata": {},
   "source": [
    "Écrivez un programme qui donne la liste de tous les nombres divisibles par 27 entre 100 et 500."
   ]
  },
  {
   "cell_type": "code",
   "execution_count": null,
   "metadata": {},
   "outputs": [],
   "source": []
  },
  {
   "cell_type": "markdown",
   "metadata": {},
   "source": [
    "Écrivez un programme qui à partir d'un mot crée un dictionnaire qui permet de compter la fréquence d'apparition des lettres dans ce mot. \n",
    "Par exemple, si le mot est ellecode, le dictionnaire associé est `{'e':3, 'l':2, 'c':1, 'o':1, 'd':1}`"
   ]
  },
  {
   "cell_type": "code",
   "execution_count": null,
   "metadata": {},
   "outputs": [],
   "source": []
  },
  {
   "cell_type": "markdown",
   "metadata": {},
   "source": [
    "## Les fonctions"
   ]
  },
  {
   "cell_type": "markdown",
   "metadata": {},
   "source": [
    "Une fonction est une suite d'instructions que l'on peut appeler avec un nom et des paramètres aussi appelés arguments. La synthaxe python pour écrire une fonction est \n",
    "```python\n",
    "def nom_de_la_fonction(arguments):\n",
    "    \n",
    "    instructions\n",
    "    \n",
    "    return valeur_a_retourner\n",
    "```\n",
    "Voici par exemple une fonction qui prend en argument une liste et renvoie la moyenne des nombres de cette liste. "
   ]
  },
  {
   "cell_type": "code",
   "execution_count": 32,
   "metadata": {},
   "outputs": [],
   "source": [
    "def moyenne(l):\n",
    "    return sum(l)/len(l)"
   ]
  },
  {
   "cell_type": "code",
   "execution_count": 36,
   "metadata": {},
   "outputs": [
    {
     "data": {
      "text/plain": [
       "6.75"
      ]
     },
     "execution_count": 36,
     "metadata": {},
     "output_type": "execute_result"
    }
   ],
   "source": [
    "l1 = [1,4,4,6,7,8,12,12]\n",
    "moyenne(l1)"
   ]
  },
  {
   "cell_type": "markdown",
   "metadata": {},
   "source": [
    "Utiliser le code que vous avez écrit pour compter la fréquence des lettres dans un mot et transformez le en une fonction `frequence`."
   ]
  },
  {
   "cell_type": "code",
   "execution_count": null,
   "metadata": {},
   "outputs": [],
   "source": []
  },
  {
   "cell_type": "markdown",
   "metadata": {},
   "source": [
    "En utilisant la fonction `frequence`, écrire une fonction `nombre_apparition` qui prend en argument un mot et une lettre et renvoie le nombre d'apparition de cette lettre dans le mot."
   ]
  },
  {
   "cell_type": "code",
   "execution_count": null,
   "metadata": {},
   "outputs": [],
   "source": []
  },
  {
   "cell_type": "markdown",
   "metadata": {},
   "source": [
    "Écrire une fonction `difference` qui prend en argument une liste de nombres et renvoie la différence entre la plus grande et la plus petite valeur de cette liste. "
   ]
  },
  {
   "cell_type": "code",
   "execution_count": null,
   "metadata": {},
   "outputs": [],
   "source": []
  },
  {
   "cell_type": "markdown",
   "metadata": {},
   "source": [
    "## Références et ressources"
   ]
  },
  {
   "cell_type": "markdown",
   "metadata": {},
   "source": [
    "Documentation officielle de python : https://docs.python.org/fr/3/\n",
    "\n",
    "Il existe d'excellents sites proposant tout un tas de tutoriels pour apprendre python : https://www.w3schools.com/python/\n",
    "\n",
    "[Google](https://www.google.ca/) est ton meilleur ami !"
   ]
  }
 ],
 "metadata": {
  "kernelspec": {
   "display_name": "Python 3",
   "language": "python",
   "name": "python3"
  },
  "language_info": {
   "codemirror_mode": {
    "name": "ipython",
    "version": 3
   },
   "file_extension": ".py",
   "mimetype": "text/x-python",
   "name": "python",
   "nbconvert_exporter": "python",
   "pygments_lexer": "ipython3",
   "version": "3.7.4"
  }
 },
 "nbformat": 4,
 "nbformat_minor": 2
}
